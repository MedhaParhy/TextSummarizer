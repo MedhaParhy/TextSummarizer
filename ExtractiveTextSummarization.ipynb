{
  "nbformat": 4,
  "nbformat_minor": 0,
  "metadata": {
    "colab": {
      "provenance": []
    },
    "kernelspec": {
      "name": "python3",
      "display_name": "Python 3"
    },
    "language_info": {
      "name": "python"
    }
  },
  "cells": [
    {
      "cell_type": "markdown",
      "source": [
        "Summarizing by using important sentences or phrases directly from the text"
      ],
      "metadata": {
        "id": "0Rdu_zoHbK8D"
      }
    },
    {
      "cell_type": "code",
      "execution_count": null,
      "metadata": {
        "colab": {
          "base_uri": "https://localhost:8080/"
        },
        "id": "3HOk-wQWZyDy",
        "outputId": "0f1e1eb5-b101-4a5d-ff2e-f7e5b3725e4b"
      },
      "outputs": [
        {
          "output_type": "stream",
          "name": "stderr",
          "text": [
            "[nltk_data] Downloading package punkt to /root/nltk_data...\n",
            "[nltk_data]   Unzipping tokenizers/punkt.zip.\n",
            "[nltk_data] Downloading package stopwords to /root/nltk_data...\n",
            "[nltk_data]   Unzipping corpora/stopwords.zip.\n"
          ]
        }
      ],
      "source": [
        "import nltk\n",
        "nltk.download('punkt')\n",
        "nltk.download('stopwords')\n",
        "# Counter counts frequency of words\n",
        "from collections import Counter\n",
        "# imports list of stop words to be removed (a, an, the ...)\n",
        "from nltk.corpus import stopwords\n",
        "# sentence tokeniser splits texts into sentences\n",
        "# word tokenizer splits sentence into words\n",
        "from nltk.tokenize import word_tokenize, sent_tokenize"
      ]
    },
    {
      "cell_type": "code",
      "source": [
        "from sklearn.feature_extraction.text import TfidfVectorizer\n",
        "from sklearn.metrics.pairwise import cosine_similarity\n",
        "from heapq import nlargest"
      ],
      "metadata": {
        "id": "YkPXHm17jDsx"
      },
      "execution_count": null,
      "outputs": []
    },
    {
      "cell_type": "code",
      "source": [
        "def summarize(text, n):\n",
        "  # Tokenize the text into sentences\n",
        "  sentences = sent_tokenize(text)\n",
        "  stop_words = set(stopwords.words('english'))\n",
        "\n",
        "  #tokenize words, removing stopwords, and punctutation\n",
        "  words = []\n",
        "  for word in word_tokenize(text):\n",
        "    if word.lower() not in stop_words and word.isalpha():\n",
        "      words.append(word.lower())\n",
        "  word_freq = Counter(words)\n",
        "\n",
        "  # Score sentences based on word frequency\n",
        "  sentence_scores = {}\n",
        "  for sentence in sentences:\n",
        "    for word in word_tokenize(sentence):\n",
        "      if word.lower() not in stop_words and word.isalpha():\n",
        "        if sentence not in sentence_scores:\n",
        "          sentence_scores[sentence] = word_freq[word.lower()]\n",
        "        else:\n",
        "          sentence_scores[sentence] += word_freq[word.lower()]\n",
        "\n",
        "  summarized_sentences = sorted(sentence_scores, key=sentence_scores.get, reverse=True)[:n]\n",
        "  return ' '.join(summarized_sentences)"
      ],
      "metadata": {
        "id": "18c4PVBRcTH1"
      },
      "execution_count": null,
      "outputs": []
    },
    {
      "cell_type": "code",
      "source": [
        "def summarize_vectorized(text, n):\n",
        "  # Tokenize the text into sentences\n",
        "  sentences = sent_tokenize(text)\n",
        "  # use tokens to make tfidf matrix\n",
        "  # tfidf matrix takes into accound the frequency of words in the sentences\n",
        "  # and the frequency of words in the entire corpus (weighting rare words)\n",
        "  vectorizer = TfidfVectorizer(stop_words='english')\n",
        "  tfidf_matrix = vectorizer.fit_transform(sentences)\n",
        "\n",
        "  #cosine similarity checks the similarity between the sentence and the document\n",
        "  sentence_scores = cosine_similarity(tfidf_matrix[-1], tfidf_matrix[:-1])[0]\n",
        "\n",
        "  #find indices for n sentences with highest similarity scores\n",
        "  summarized_sentences = nlargest(n, range(len(sentence_scores)), key=sentence_scores.__getitem__)\n",
        "\n",
        "  # use indices to add sentences\n",
        "  return ' '.join([sentences[i] for i in sorted(summarized_sentences)])"
      ],
      "metadata": {
        "id": "NTr7d71ti_e_"
      },
      "execution_count": null,
      "outputs": []
    },
    {
      "cell_type": "code",
      "source": [
        "text =  '''\n",
        "Weather is the day-to-day or hour-to-hour change in the atmosphere.\n",
        "Weather includes wind, lightning, storms, hurricanes, tornadoes (also known as twisters), rain, hail, snow, and lots more.\n",
        "Energy from the Sun affects the weather too.\n",
        "Climate tells us what kinds of weather usually happen in an area at different times of the year.\n",
        "Changes in weather can affect our mood and life. We wear different clothes and do different things in different weather conditions.\n",
        "We choose different foods in different seasons.\n",
        "Weather stations around the world measure different parts of weather.\n",
        "Ways to measure weather are wind speed, wind direction, temperature and humidity.\n",
        "People try to use these measurements to make weather forecasts for the future.\n",
        "These people are scientists that are called meteorologists.\n",
        "They use computers to build large mathematical models to follow weather trends.'''\n",
        "summary = summarize(text, 5)\n",
        "summary_sentences = summary.split('. ')\n",
        "formatted_summary = '.\\n'.join(summary_sentences)\n",
        "\n",
        "summary_vec = summarize_vectorized(text, 5)\n",
        "summary_sent_vec = summary_vec.split('. ')\n",
        "formatted_summ_vec = '.\\n'.join(summary_sent_vec)\n",
        "\n",
        "print(formatted_summary)\n",
        "print()\n",
        "print(formatted_summ_vec)"
      ],
      "metadata": {
        "colab": {
          "base_uri": "https://localhost:8080/"
        },
        "id": "cKv4-da1edhh",
        "outputId": "d6e0f2de-823d-41aa-eca4-f057db40d1b8"
      },
      "execution_count": null,
      "outputs": [
        {
          "output_type": "stream",
          "name": "stdout",
          "text": [
            "We wear different clothes and do different things in different weather conditions.\n",
            "Weather stations around the world measure different parts of weather.\n",
            "Climate tells us what kinds of weather usually happen in an area at different times of the year.\n",
            "Weather includes wind, lightning, storms, hurricanes, tornadoes (also known as twisters), rain, hail, snow, and lots more.\n",
            "Ways to measure weather are wind speed, wind direction, temperature and humidity.\n",
            "\n",
            "Energy from the Sun affects the weather too.\n",
            "Changes in weather can affect our mood and life.\n",
            "We wear different clothes and do different things in different weather conditions.\n",
            "Weather stations around the world measure different parts of weather.\n",
            "People try to use these measurements to make weather forecasts for the future.\n"
          ]
        }
      ]
    }
  ]
}